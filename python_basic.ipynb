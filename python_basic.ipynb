{
  "nbformat": 4,
  "nbformat_minor": 0,
  "metadata": {
    "colab": {
      "provenance": [],
      "authorship_tag": "ABX9TyP+hkNhNW/8jhx6Yh6Afwhs",
      "include_colab_link": true
    },
    "kernelspec": {
      "name": "python3",
      "display_name": "Python 3"
    },
    "language_info": {
      "name": "python"
    }
  },
  "cells": [
    {
      "cell_type": "markdown",
      "metadata": {
        "id": "view-in-github",
        "colab_type": "text"
      },
      "source": [
        "<a href=\"https://colab.research.google.com/github/bskdhanush/Python-basics/blob/main/python_basic.ipynb\" target=\"_parent\"><img src=\"https://colab.research.google.com/assets/colab-badge.svg\" alt=\"Open In Colab\"/></a>"
      ]
    },
    {
      "cell_type": "markdown",
      "source": [
        "# Basic"
      ],
      "metadata": {
        "id": "LE5Rt6FtBBgb"
      }
    },
    {
      "cell_type": "code",
      "execution_count": null,
      "metadata": {
        "id": "KmUxSqlS4_Yf"
      },
      "outputs": [],
      "source": [
        "A=10"
      ]
    },
    {
      "cell_type": "code",
      "source": [
        "Name=\"bsk\"\n",
        "miles=140.6"
      ],
      "metadata": {
        "id": "qesCqz_F5Gct"
      },
      "execution_count": null,
      "outputs": []
    },
    {
      "cell_type": "code",
      "source": [
        "city_name='london'"
      ],
      "metadata": {
        "id": "MSbsE0mc5NwA"
      },
      "execution_count": null,
      "outputs": []
    },
    {
      "cell_type": "code",
      "source": [
        "type(A)"
      ],
      "metadata": {
        "colab": {
          "base_uri": "https://localhost:8080/"
        },
        "id": "XBL_ZtYF5Rqy",
        "outputId": "f671411d-87a0-4706-8698-d1929bb48ae5"
      },
      "execution_count": null,
      "outputs": [
        {
          "output_type": "execute_result",
          "data": {
            "text/plain": [
              "int"
            ]
          },
          "metadata": {},
          "execution_count": 4
        }
      ]
    },
    {
      "cell_type": "code",
      "source": [
        "type(miles)"
      ],
      "metadata": {
        "colab": {
          "base_uri": "https://localhost:8080/"
        },
        "id": "fkqm1Opi5U5Z",
        "outputId": "f89d2c47-5a30-46eb-a472-fc1d27559a5e"
      },
      "execution_count": null,
      "outputs": [
        {
          "output_type": "execute_result",
          "data": {
            "text/plain": [
              "float"
            ]
          },
          "metadata": {},
          "execution_count": 5
        }
      ]
    },
    {
      "cell_type": "code",
      "source": [
        "type(city_name)\n"
      ],
      "metadata": {
        "colab": {
          "base_uri": "https://localhost:8080/"
        },
        "id": "LwTQw4b65d8W",
        "outputId": "7cb9acc3-c3f3-451a-e2db-c4760df595f9"
      },
      "execution_count": null,
      "outputs": [
        {
          "output_type": "execute_result",
          "data": {
            "text/plain": [
              "str"
            ]
          },
          "metadata": {},
          "execution_count": 8
        }
      ]
    },
    {
      "cell_type": "code",
      "source": [
        "print(Name)"
      ],
      "metadata": {
        "id": "KoESpTj45rog"
      },
      "execution_count": null,
      "outputs": []
    },
    {
      "cell_type": "markdown",
      "source": [
        "# Data types and math operations"
      ],
      "metadata": {
        "id": "H08zNyWaA9jQ"
      }
    },
    {
      "cell_type": "code",
      "source": [
        "b=9.1\n",
        "c= 77.j\n",
        "type(c)"
      ],
      "metadata": {
        "colab": {
          "base_uri": "https://localhost:8080/"
        },
        "id": "ik364KU17oYq",
        "outputId": "298aa0cd-8e8b-4644-c2ca-eb12947f486d"
      },
      "execution_count": null,
      "outputs": [
        {
          "output_type": "execute_result",
          "data": {
            "text/plain": [
              "complex"
            ]
          },
          "metadata": {},
          "execution_count": 11
        }
      ]
    },
    {
      "cell_type": "code",
      "source": [
        "num1=15\n",
        "num2=10\n",
        "num1+num2"
      ],
      "metadata": {
        "colab": {
          "base_uri": "https://localhost:8080/"
        },
        "id": "TK3bjRLN79PM",
        "outputId": "25e484e9-7dcc-4743-8276-43bbb3f18c09"
      },
      "execution_count": null,
      "outputs": [
        {
          "output_type": "execute_result",
          "data": {
            "text/plain": [
              "25"
            ]
          },
          "metadata": {},
          "execution_count": 13
        }
      ]
    },
    {
      "cell_type": "code",
      "source": [
        "num1+b"
      ],
      "metadata": {
        "colab": {
          "base_uri": "https://localhost:8080/"
        },
        "id": "Sp_sa3O08JcG",
        "outputId": "4451d442-1ebc-42cf-94ae-bfba84db0249"
      },
      "execution_count": null,
      "outputs": [
        {
          "output_type": "execute_result",
          "data": {
            "text/plain": [
              "24.1"
            ]
          },
          "metadata": {},
          "execution_count": 14
        }
      ]
    },
    {
      "cell_type": "code",
      "source": [
        "num1-num2"
      ],
      "metadata": {
        "colab": {
          "base_uri": "https://localhost:8080/"
        },
        "id": "G83vOFfL8OFV",
        "outputId": "5dc914cb-7bbc-468d-c1d5-ecb57f81fa06"
      },
      "execution_count": null,
      "outputs": [
        {
          "output_type": "execute_result",
          "data": {
            "text/plain": [
              "5"
            ]
          },
          "metadata": {},
          "execution_count": 15
        }
      ]
    },
    {
      "cell_type": "code",
      "source": [
        "num1*num2"
      ],
      "metadata": {
        "colab": {
          "base_uri": "https://localhost:8080/"
        },
        "id": "pALTOJHr8RPB",
        "outputId": "b1596351-af43-45eb-c696-528bf501e509"
      },
      "execution_count": null,
      "outputs": [
        {
          "output_type": "execute_result",
          "data": {
            "text/plain": [
              "150"
            ]
          },
          "metadata": {},
          "execution_count": 16
        }
      ]
    },
    {
      "cell_type": "code",
      "source": [
        "#division \n",
        "num1/num2"
      ],
      "metadata": {
        "colab": {
          "base_uri": "https://localhost:8080/"
        },
        "id": "GyRQ5cOh8YSt",
        "outputId": "4d6dd001-631f-4784-cb86-943bb5047b45"
      },
      "execution_count": null,
      "outputs": [
        {
          "output_type": "execute_result",
          "data": {
            "text/plain": [
              "1.5"
            ]
          },
          "metadata": {},
          "execution_count": 17
        }
      ]
    },
    {
      "cell_type": "code",
      "source": [
        "#to get remainder \n",
        "num1%num2"
      ],
      "metadata": {
        "colab": {
          "base_uri": "https://localhost:8080/"
        },
        "id": "hUJc22YL8ezR",
        "outputId": "9e413dab-4f85-4d1c-fc79-bf1d483dcd2b"
      },
      "execution_count": null,
      "outputs": [
        {
          "output_type": "execute_result",
          "data": {
            "text/plain": [
              "5"
            ]
          },
          "metadata": {},
          "execution_count": 18
        }
      ]
    },
    {
      "cell_type": "code",
      "source": [
        "#exp n^x\n",
        "\n",
        "4**3"
      ],
      "metadata": {
        "colab": {
          "base_uri": "https://localhost:8080/"
        },
        "id": "NDIiwQeh8no2",
        "outputId": "96b20a04-085d-409c-ed57-cea75ed26100"
      },
      "execution_count": null,
      "outputs": [
        {
          "output_type": "execute_result",
          "data": {
            "text/plain": [
              "64"
            ]
          },
          "metadata": {},
          "execution_count": 19
        }
      ]
    },
    {
      "cell_type": "code",
      "source": [
        "#to find sqr\n",
        "81 ** 0.5"
      ],
      "metadata": {
        "colab": {
          "base_uri": "https://localhost:8080/"
        },
        "id": "dh-YJdRx89Lm",
        "outputId": "a95db07e-2033-4e91-ab45-57dbeb30dfb9"
      },
      "execution_count": null,
      "outputs": [
        {
          "output_type": "execute_result",
          "data": {
            "text/plain": [
              "9.0"
            ]
          },
          "metadata": {},
          "execution_count": 20
        }
      ]
    },
    {
      "cell_type": "code",
      "source": [
        "num1//num2\n"
      ],
      "metadata": {
        "colab": {
          "base_uri": "https://localhost:8080/"
        },
        "id": "5qxzdmkh9Eho",
        "outputId": "645f8d70-460c-4c0e-d0a7-f0981532cbba"
      },
      "execution_count": null,
      "outputs": [
        {
          "output_type": "execute_result",
          "data": {
            "text/plain": [
              "1"
            ]
          },
          "metadata": {},
          "execution_count": 22
        }
      ]
    },
    {
      "cell_type": "markdown",
      "source": [
        "# Hypotunes and BMI Calc"
      ],
      "metadata": {
        "id": "T7FflImoBSK_"
      }
    },
    {
      "cell_type": "code",
      "source": [
        "#hypotunes calc a^2+b^2=c^2\n",
        "a=int(input())\n",
        "b=int(input())\n",
        "c=(a**2 +b**2)**0.5 #here we want to find c value not c^2 value so **0.5\n",
        "print(\"hypotunes:\" ,c)\n"
      ],
      "metadata": {
        "colab": {
          "base_uri": "https://localhost:8080/"
        },
        "id": "NMtimLnf9TC6",
        "outputId": "b3f1f2e2-2965-425c-885d-521b90c69266"
      },
      "execution_count": null,
      "outputs": [
        {
          "output_type": "stream",
          "name": "stdout",
          "text": [
            "5\n",
            "3\n",
            "hypotunes: 5.830951894845301\n"
          ]
        }
      ]
    },
    {
      "cell_type": "code",
      "source": [
        "#bmi calc\n",
        "w=int(input(\"Enter weigth\"))\n",
        "h=float(input(\"Enter heigth in meters\"))\n",
        "bmi=w/(h**2)\n",
        "print(\"BMI:\",bmi)"
      ],
      "metadata": {
        "colab": {
          "base_uri": "https://localhost:8080/"
        },
        "id": "90frmyNW-mhi",
        "outputId": "aca4819f-6a38-415a-a8e0-7b9b9aa4b7bf"
      },
      "execution_count": null,
      "outputs": [
        {
          "output_type": "stream",
          "name": "stdout",
          "text": [
            "Enter weigth74\n",
            "Enter heigth1.78\n",
            "BMI: 23.355636914530994\n"
          ]
        }
      ]
    },
    {
      "cell_type": "markdown",
      "source": [
        "# Strings and it's functions\n"
      ],
      "metadata": {
        "id": "0N2B8AdIBXhO"
      }
    },
    {
      "cell_type": "code",
      "source": [
        "str=\"hello\"\n",
        "str[0]"
      ],
      "metadata": {
        "colab": {
          "base_uri": "https://localhost:8080/",
          "height": 35
        },
        "id": "dwJ5SuJJ_KsE",
        "outputId": "ba2e73ef-32a8-4541-a0e3-8198fcd85331"
      },
      "execution_count": null,
      "outputs": [
        {
          "output_type": "execute_result",
          "data": {
            "text/plain": [
              "'h'"
            ],
            "application/vnd.google.colaboratory.intrinsic+json": {
              "type": "string"
            }
          },
          "metadata": {},
          "execution_count": 30
        }
      ]
    },
    {
      "cell_type": "code",
      "source": [
        "str[-1]"
      ],
      "metadata": {
        "colab": {
          "base_uri": "https://localhost:8080/",
          "height": 35
        },
        "id": "60o6qcv-BLur",
        "outputId": "e1dad2e8-f8da-4fa1-efc1-0c2eac9ffc72"
      },
      "execution_count": null,
      "outputs": [
        {
          "output_type": "execute_result",
          "data": {
            "text/plain": [
              "'o'"
            ],
            "application/vnd.google.colaboratory.intrinsic+json": {
              "type": "string"
            }
          },
          "metadata": {},
          "execution_count": 31
        }
      ]
    },
    {
      "cell_type": "code",
      "source": [
        "str2=\"hello there what a sunday evening\"\n",
        "str2[4:15] "
      ],
      "metadata": {
        "colab": {
          "base_uri": "https://localhost:8080/",
          "height": 35
        },
        "id": "5YCpuvrSBP2S",
        "outputId": "280e4713-6d58-45db-83aa-0b0cd7eebce9"
      },
      "execution_count": null,
      "outputs": [
        {
          "output_type": "execute_result",
          "data": {
            "text/plain": [
              "'o there wwh'"
            ],
            "application/vnd.google.colaboratory.intrinsic+json": {
              "type": "string"
            }
          },
          "metadata": {},
          "execution_count": 35
        }
      ]
    },
    {
      "cell_type": "code",
      "source": [
        "str2[:]"
      ],
      "metadata": {
        "colab": {
          "base_uri": "https://localhost:8080/",
          "height": 35
        },
        "id": "1Wjpn02cBgHC",
        "outputId": "933577ee-08fb-4186-c34d-a4937db73052"
      },
      "execution_count": null,
      "outputs": [
        {
          "output_type": "execute_result",
          "data": {
            "text/plain": [
              "'hello there wwhat a sunday evening'"
            ],
            "application/vnd.google.colaboratory.intrinsic+json": {
              "type": "string"
            }
          },
          "metadata": {},
          "execution_count": 37
        }
      ]
    },
    {
      "cell_type": "code",
      "source": [
        "str2[:10]"
      ],
      "metadata": {
        "colab": {
          "base_uri": "https://localhost:8080/",
          "height": 35
        },
        "id": "5wBcxCGTBpyq",
        "outputId": "1aefb0db-a3b2-42ae-cc24-6633f48f146e"
      },
      "execution_count": null,
      "outputs": [
        {
          "output_type": "execute_result",
          "data": {
            "text/plain": [
              "'hello ther'"
            ],
            "application/vnd.google.colaboratory.intrinsic+json": {
              "type": "string"
            }
          },
          "metadata": {},
          "execution_count": 38
        }
      ]
    },
    {
      "cell_type": "code",
      "source": [
        "#String methods     \n",
        "str_1=\"hello world\"\n",
        "len(str_1)           "
      ],
      "metadata": {
        "id": "fQKSlhbLBsfH",
        "colab": {
          "base_uri": "https://localhost:8080/"
        },
        "outputId": "6b435cdc-d4a9-45b3-fda4-c13b3a18ce07"
      },
      "execution_count": null,
      "outputs": [
        {
          "output_type": "execute_result",
          "data": {
            "text/plain": [
              "11"
            ]
          },
          "metadata": {},
          "execution_count": 4
        }
      ]
    },
    {
      "cell_type": "code",
      "source": [
        "# to remove spaces in a string\n",
        "\" vijayawada is  a beautiful place          \".strip()"
      ],
      "metadata": {
        "colab": {
          "base_uri": "https://localhost:8080/",
          "height": 35
        },
        "id": "kUb6DhzY-VUq",
        "outputId": "9c2722ad-5d15-4a7f-c2cb-64949e4f3783"
      },
      "execution_count": null,
      "outputs": [
        {
          "output_type": "execute_result",
          "data": {
            "text/plain": [
              "'vijayawada is  a beautiful place'"
            ],
            "application/vnd.google.colaboratory.intrinsic+json": {
              "type": "string"
            }
          },
          "metadata": {},
          "execution_count": 5
        }
      ]
    },
    {
      "cell_type": "code",
      "source": [
        "# To remove any un wanted symbols \n",
        "\"<<<<bsk >>>>\".strip(\"<\").strip(\">\")"
      ],
      "metadata": {
        "colab": {
          "base_uri": "https://localhost:8080/",
          "height": 35
        },
        "id": "1_P_vWFi-D39",
        "outputId": "5a84fdeb-73b1-4599-fe57-ab076cfb9560"
      },
      "execution_count": null,
      "outputs": [
        {
          "output_type": "execute_result",
          "data": {
            "text/plain": [
              "'bsk '"
            ],
            "application/vnd.google.colaboratory.intrinsic+json": {
              "type": "string"
            }
          },
          "metadata": {},
          "execution_count": 8
        }
      ]
    },
    {
      "cell_type": "code",
      "source": [
        "# To make an string to lower case and upper case\n",
        "\"BSK\".lower()\n",
        "\"bsk\".upper()"
      ],
      "metadata": {
        "colab": {
          "base_uri": "https://localhost:8080/",
          "height": 35
        },
        "id": "27vYn1x9_iTo",
        "outputId": "df587424-b89d-4858-fc3a-5ee7d3989e12"
      },
      "execution_count": null,
      "outputs": [
        {
          "output_type": "execute_result",
          "data": {
            "text/plain": [
              "'BSK'"
            ],
            "application/vnd.google.colaboratory.intrinsic+json": {
              "type": "string"
            }
          },
          "metadata": {},
          "execution_count": 11
        }
      ]
    },
    {
      "cell_type": "code",
      "source": [
        "#TO replace a string \n",
        "\"Bsk dhanush\".replace(\"Bsk\",\"gg\") #It is case sensetive ,or it will return the same string"
      ],
      "metadata": {
        "colab": {
          "base_uri": "https://localhost:8080/",
          "height": 35
        },
        "id": "QdWtAm8UADo3",
        "outputId": "3b1e121e-cdef-4c85-f357-0e6ab7626db8"
      },
      "execution_count": null,
      "outputs": [
        {
          "output_type": "execute_result",
          "data": {
            "text/plain": [
              "'gg dhanush'"
            ],
            "application/vnd.google.colaboratory.intrinsic+json": {
              "type": "string"
            }
          },
          "metadata": {},
          "execution_count": 16
        }
      ]
    },
    {
      "cell_type": "markdown",
      "source": [
        "#Data type conversion"
      ],
      "metadata": {
        "id": "W7h9Jm75BhBs"
      }
    },
    {
      "cell_type": "code",
      "source": [
        "#From int <-> float ,int <-> string , float <-> sting \n",
        "\n",
        "a=10\n",
        "type(a)"
      ],
      "metadata": {
        "colab": {
          "base_uri": "https://localhost:8080/"
        },
        "id": "0MsVMRgsArlr",
        "outputId": "f6077af2-f0db-4971-fcdf-b07a2417406d"
      },
      "execution_count": null,
      "outputs": [
        {
          "output_type": "execute_result",
          "data": {
            "text/plain": [
              "int"
            ]
          },
          "metadata": {},
          "execution_count": 20
        }
      ]
    },
    {
      "cell_type": "code",
      "source": [
        "a1=float(a)\n",
        "type(a1)"
      ],
      "metadata": {
        "colab": {
          "base_uri": "https://localhost:8080/"
        },
        "id": "Gv0Tj8kXDARB",
        "outputId": "08fe0ca1-ecac-43e2-e269-da138a40b928"
      },
      "execution_count": null,
      "outputs": [
        {
          "output_type": "execute_result",
          "data": {
            "text/plain": [
              "float"
            ]
          },
          "metadata": {},
          "execution_count": 22
        }
      ]
    },
    {
      "cell_type": "code",
      "source": [
        "a1\n"
      ],
      "metadata": {
        "colab": {
          "base_uri": "https://localhost:8080/"
        },
        "id": "W0FjIyR9DE5R",
        "outputId": "2de16bbd-f1a0-44d0-a645-8c5955cf9d10"
      },
      "execution_count": null,
      "outputs": [
        {
          "output_type": "execute_result",
          "data": {
            "text/plain": [
              "10.0"
            ]
          },
          "metadata": {},
          "execution_count": 24
        }
      ]
    },
    {
      "cell_type": "code",
      "source": [
        "a=int(a1)\n",
        "a"
      ],
      "metadata": {
        "colab": {
          "base_uri": "https://localhost:8080/"
        },
        "id": "Umo8y-9pDLJt",
        "outputId": "2de63105-f905-4279-f737-de4d99cb07ca"
      },
      "execution_count": null,
      "outputs": [
        {
          "output_type": "execute_result",
          "data": {
            "text/plain": [
              "10"
            ]
          },
          "metadata": {},
          "execution_count": 25
        }
      ]
    },
    {
      "cell_type": "code",
      "source": [
        "num=1234321\n",
        "str1=str(num)\n",
        "type(str1)"
      ],
      "metadata": {
        "colab": {
          "base_uri": "https://localhost:8080/"
        },
        "id": "bx5Tn1FKDRXf",
        "outputId": "3a7d73e7-5566-492d-f518-64f19119e606"
      },
      "execution_count": null,
      "outputs": [
        {
          "output_type": "execute_result",
          "data": {
            "text/plain": [
              "str"
            ]
          },
          "metadata": {},
          "execution_count": 26
        }
      ]
    },
    {
      "cell_type": "code",
      "source": [
        "str1"
      ],
      "metadata": {
        "colab": {
          "base_uri": "https://localhost:8080/",
          "height": 35
        },
        "id": "wwboS4stDg1r",
        "outputId": "c580c679-163a-435d-f492-c3d31074797e"
      },
      "execution_count": null,
      "outputs": [
        {
          "output_type": "execute_result",
          "data": {
            "text/plain": [
              "'1234321'"
            ],
            "application/vnd.google.colaboratory.intrinsic+json": {
              "type": "string"
            }
          },
          "metadata": {},
          "execution_count": 28
        }
      ]
    },
    {
      "cell_type": "code",
      "source": [
        "num1=int(str1)#check weather it can be converted or not\n",
        "float1=float(str1)\n",
        "num1"
      ],
      "metadata": {
        "colab": {
          "base_uri": "https://localhost:8080/"
        },
        "id": "dVOf2QlvDnp8",
        "outputId": "75afab33-a16b-48d3-8e94-88d3316a1cdc"
      },
      "execution_count": null,
      "outputs": [
        {
          "output_type": "execute_result",
          "data": {
            "text/plain": [
              "1234321"
            ]
          },
          "metadata": {},
          "execution_count": 29
        }
      ]
    },
    {
      "cell_type": "code",
      "source": [
        "float1"
      ],
      "metadata": {
        "colab": {
          "base_uri": "https://localhost:8080/"
        },
        "id": "-LJ2Q78ID7Ci",
        "outputId": "f9258621-e675-4897-b587-42315a8677d4"
      },
      "execution_count": null,
      "outputs": [
        {
          "output_type": "execute_result",
          "data": {
            "text/plain": [
              "1234321.0"
            ]
          },
          "metadata": {},
          "execution_count": 30
        }
      ]
    },
    {
      "cell_type": "code",
      "source": [
        "#Not possible to convert\n",
        "#num2=int(str_1)\n",
        "#num2"
      ],
      "metadata": {
        "id": "qiBO6pkFD9SG"
      },
      "execution_count": null,
      "outputs": []
    },
    {
      "cell_type": "markdown",
      "source": [
        "# Conditionals Statments"
      ],
      "metadata": {
        "id": "JSgRLlf8Fcr-"
      }
    },
    {
      "cell_type": "markdown",
      "source": [
        "Boolean"
      ],
      "metadata": {
        "id": "zPZjj1PpVEiJ"
      }
    },
    {
      "cell_type": "code",
      "source": [
        "A=True\n",
        "type(A)"
      ],
      "metadata": {
        "colab": {
          "base_uri": "https://localhost:8080/"
        },
        "id": "E_l8WZhUELYg",
        "outputId": "2a737b64-ca9b-4085-b1fe-0370bcc8efd3"
      },
      "execution_count": null,
      "outputs": [
        {
          "output_type": "execute_result",
          "data": {
            "text/plain": [
              "bool"
            ]
          },
          "metadata": {},
          "execution_count": 32
        }
      ]
    },
    {
      "cell_type": "code",
      "source": [
        "bool(12.3)"
      ],
      "metadata": {
        "colab": {
          "base_uri": "https://localhost:8080/"
        },
        "id": "H3ZtXBOMUj3V",
        "outputId": "92382fea-e056-42bc-f0a6-a99bd0757c24"
      },
      "execution_count": null,
      "outputs": [
        {
          "output_type": "execute_result",
          "data": {
            "text/plain": [
              "True"
            ]
          },
          "metadata": {},
          "execution_count": 33
        }
      ]
    },
    {
      "cell_type": "code",
      "source": [
        "bool(0.0)# For empty,=0 wee get false"
      ],
      "metadata": {
        "colab": {
          "base_uri": "https://localhost:8080/"
        },
        "id": "oMwXgl_dUsv8",
        "outputId": "f6b9b5a5-6799-4ce4-f33f-c5ef15a6207f"
      },
      "execution_count": null,
      "outputs": [
        {
          "output_type": "execute_result",
          "data": {
            "text/plain": [
              "False"
            ]
          },
          "metadata": {},
          "execution_count": 34
        }
      ]
    },
    {
      "cell_type": "markdown",
      "source": [
        "Comparison and logical Operators\n",
        "(== , != ,<  , > , <= , >= )"
      ],
      "metadata": {
        "id": "tsrZMrm-VGkJ"
      }
    },
    {
      "cell_type": "code",
      "source": [
        "\"John\" == \"John\""
      ],
      "metadata": {
        "colab": {
          "base_uri": "https://localhost:8080/"
        },
        "id": "MDwg2KHgUvnp",
        "outputId": "a4a1e4ce-9e75-41b7-a2ae-0faeedb9b145"
      },
      "execution_count": null,
      "outputs": [
        {
          "output_type": "execute_result",
          "data": {
            "text/plain": [
              "True"
            ]
          },
          "metadata": {},
          "execution_count": 38
        }
      ]
    },
    {
      "cell_type": "code",
      "source": [
        "\"Uday\" == \"BSk\""
      ],
      "metadata": {
        "colab": {
          "base_uri": "https://localhost:8080/"
        },
        "id": "oNEwnKyFVU5_",
        "outputId": "5833cf79-670a-4cc8-ea67-3e08f7f24d56"
      },
      "execution_count": null,
      "outputs": [
        {
          "output_type": "execute_result",
          "data": {
            "text/plain": [
              "False"
            ]
          },
          "metadata": {},
          "execution_count": 41
        }
      ]
    },
    {
      "cell_type": "code",
      "source": [
        "\"uday\" != \"Bsk\""
      ],
      "metadata": {
        "colab": {
          "base_uri": "https://localhost:8080/"
        },
        "id": "ZmdVdyOfVulI",
        "outputId": "c11e8ff9-9610-4fc2-cd33-cf2e3c3884c6"
      },
      "execution_count": null,
      "outputs": [
        {
          "output_type": "execute_result",
          "data": {
            "text/plain": [
              "True"
            ]
          },
          "metadata": {},
          "execution_count": 43
        }
      ]
    },
    {
      "cell_type": "code",
      "source": [
        "15>7"
      ],
      "metadata": {
        "colab": {
          "base_uri": "https://localhost:8080/"
        },
        "id": "ouerMfj3VyG9",
        "outputId": "7c298cad-1a91-4499-d23b-110ddcc74f14"
      },
      "execution_count": null,
      "outputs": [
        {
          "output_type": "execute_result",
          "data": {
            "text/plain": [
              "True"
            ]
          },
          "metadata": {},
          "execution_count": 44
        }
      ]
    },
    {
      "cell_type": "markdown",
      "source": [
        "Logical Operators\n",
        "and,or,not "
      ],
      "metadata": {
        "id": "BqQvOqz3V_eK"
      }
    },
    {
      "cell_type": "code",
      "source": [
        "5==5 and \"bsk\"==\"bsk\""
      ],
      "metadata": {
        "colab": {
          "base_uri": "https://localhost:8080/"
        },
        "id": "q0TtbOOSV1qK",
        "outputId": "fb56ad13-5d0e-43b8-96a6-1103b672fe80"
      },
      "execution_count": null,
      "outputs": [
        {
          "output_type": "execute_result",
          "data": {
            "text/plain": [
              "True"
            ]
          },
          "metadata": {},
          "execution_count": 45
        }
      ]
    },
    {
      "cell_type": "code",
      "source": [
        "5==15 and \"bsk\"==\"bsk\""
      ],
      "metadata": {
        "colab": {
          "base_uri": "https://localhost:8080/"
        },
        "id": "AuXlO4XMWUPM",
        "outputId": "04b7f339-c83d-45af-e779-04d93a5546d2"
      },
      "execution_count": null,
      "outputs": [
        {
          "output_type": "execute_result",
          "data": {
            "text/plain": [
              "False"
            ]
          },
          "metadata": {},
          "execution_count": 47
        }
      ]
    },
    {
      "cell_type": "code",
      "source": [
        "10<5 or \"bsk\"==\"bsk\""
      ],
      "metadata": {
        "colab": {
          "base_uri": "https://localhost:8080/"
        },
        "id": "rcUlqMiBWYx3",
        "outputId": "62cfea10-1d53-487e-ba90-b7e19b8c3f63"
      },
      "execution_count": null,
      "outputs": [
        {
          "output_type": "execute_result",
          "data": {
            "text/plain": [
              "True"
            ]
          },
          "metadata": {},
          "execution_count": 48
        }
      ]
    },
    {
      "cell_type": "code",
      "source": [
        "not 5==5 #ngation for the given statment"
      ],
      "metadata": {
        "colab": {
          "base_uri": "https://localhost:8080/"
        },
        "id": "qFfUeQwyWcEY",
        "outputId": "a6ffd490-46e8-4916-f629-f50b07a30bb5"
      },
      "execution_count": null,
      "outputs": [
        {
          "output_type": "execute_result",
          "data": {
            "text/plain": [
              "False"
            ]
          },
          "metadata": {},
          "execution_count": 50
        }
      ]
    },
    {
      "cell_type": "markdown",
      "source": [
        "If ,else statments\n"
      ],
      "metadata": {
        "id": "omi25N4_XAxL"
      }
    },
    {
      "cell_type": "code",
      "source": [
        "#Check weather a number is positive or negative \n",
        "\n",
        "num=int(input(\"Enter a number \"))\n",
        "\n",
        "if num==0:\n",
        "   print(\"Number is 0\")\n",
        "elif num>0:\n",
        "  print(\"Number is positive\")\n",
        "else:\n",
        "    print(\"Number is negative\")"
      ],
      "metadata": {
        "colab": {
          "base_uri": "https://localhost:8080/"
        },
        "id": "v9lh29nfXFxA",
        "outputId": "731b3ff8-5626-46fe-986e-466377306df3"
      },
      "execution_count": null,
      "outputs": [
        {
          "output_type": "stream",
          "name": "stdout",
          "text": [
            "Enter a number -1\n",
            "Number is negative\n"
          ]
        }
      ]
    },
    {
      "cell_type": "markdown",
      "source": [
        "# Basic Calculator"
      ],
      "metadata": {
        "id": "_u_Mi3wIajnP"
      }
    },
    {
      "cell_type": "code",
      "source": [
        "print(\"\"\"\n",
        "\n",
        "1.Addition\n",
        "2.Subtraction\n",
        "3.Multiplication\n",
        "4.Division\n",
        "5.Exponent\n",
        "6.Calculate BMI\n",
        "7.Calculate the area of a triangle\n",
        "8.Calculate the area of a square\n",
        "9.Finding sqare root\n",
        "\n",
        "To exit press 0\n",
        "\n",
        "\"\"\")\n",
        "\n",
        "op=int(input(\"Please the operation number: \"))\n",
        "\n",
        "if op==1:\n",
        "  num1=int(input(\"Enter first number: \"))\n",
        "  num2=int(input(\"Enter second number: \"))\n",
        "  print(num1+num2)\n",
        "\n",
        "\n",
        "elif op==2:\n",
        "  num1=int(input(\"Enter first number: \"))\n",
        "  num2=int(input(\"Enter second number: \"))\n",
        "  print(num1-num2)\n",
        "\n",
        "elif op==3:\n",
        "  num1=int(input(\"Enter first number: \"))\n",
        "  num2=int(input(\"Enter second number: \"))\n",
        "  print(num1*num2)\n",
        "\n",
        "elif op==4:\n",
        "   num1=int(input(\"Enter first number: \"))\n",
        "   num2=int(input(\"Enter second number: \"))\n",
        "   print(num1/num2)\n",
        "\n",
        "elif op==5:\n",
        "   num1=int(input(\"Enter base: \"))\n",
        "   num2=int(input(\"Enter exponent number: \"))\n",
        "   print(num1**num2)\n",
        "\n",
        "elif op==6:\n",
        "   w=int(input(\"Enter weigth\"))\n",
        "   h=float(input(\"Enter heigth in meters\"))\n",
        "   bmi=w/(h**2)\n",
        "   print(\"BMI:\",bmi)\n",
        "\n",
        "elif op==7:\n",
        "  base=int(input(\"Enter base of the tringle:\"))\n",
        "  height=int(input(\"Enter the height of the triangle:\"))\n",
        "  print(\"Area :\",(base*height)/2)\n",
        "\n",
        "elif op==8:\n",
        "  side=int(input(\"Enter side of a square\"))\n",
        "  print(\"Area :\",a**a)\n",
        "\n",
        "elif op==9:\n",
        "     num=int(input(\"Enter a number: \"))   \n",
        "     print(num**0.5)\n",
        "\n",
        "elif op==0:\n",
        "  print(\"Exeting\")\n",
        "\n",
        "else:\n",
        "  print(\"Invalid number\")     \n",
        "\n",
        "\n",
        "\n",
        "  \n"
      ],
      "metadata": {
        "id": "Twaao3ftarhp"
      },
      "execution_count": null,
      "outputs": []
    },
    {
      "cell_type": "markdown",
      "source": [
        "# Basic Calc Using nested if else\n"
      ],
      "metadata": {
        "id": "hNh5hOtrBtV8"
      }
    },
    {
      "cell_type": "code",
      "source": [
        "# Spaces are damm importamt take care budy\n",
        "print(\"\"\"\n",
        "\n",
        "Press 1 for Basic calculation\n",
        "Press 2 for Other \n",
        "\n",
        "\"\"\")\n",
        "op=int(input(\"Enter an Option: \"))\n",
        "if op==1:\n",
        " print(\"\"\"\n",
        "\n",
        "   1.Addition\n",
        "   2.Subtraction\n",
        "   3.Multiplication\n",
        "   4.Division\n",
        "   5.Exponent\n",
        "   \n",
        "     \"\"\")\n",
        " op1=int(input(\"Please select an operation number: \"))\n",
        " if op1>0 and op1<=4:\n",
        "     num1=int(input(\"Enter 1st number: \"))\n",
        "     num2=int(input(\"Enter 2nd number: \"))\n",
        "\n",
        "     if op1==1:\n",
        "      print(\"Addition: \",num1+num2)\n",
        "     elif op1==2:  \n",
        "      print(\"Subraction: \",num1-num2)\n",
        "     elif op1==3:\n",
        "      print(\"Multiplication: \",num1*num2)\n",
        "     else:\n",
        "      print(\"Division: \",num1/num2)\n",
        " elif op1==5:\n",
        "     num1=int(input(\"Enter base: \"))\n",
        "     num2=int(input(\"Enter exponent number: \"))\n",
        "     print(\"Exponent:\",num1**num2)\n",
        " else:\n",
        "   print(\"Invalid option exiting program.... \")     \n",
        "elif op==2:\n",
        "  print(\"\"\"\n",
        "      \n",
        "      1.Calculate BMI\n",
        "      2.Calculate the area of a triangle\n",
        "      3.Calculate the area of a square\n",
        "      4.Finding sqare root\n",
        "\n",
        "  \"\"\")\n",
        "  op=int(input(\"Please select an operation number: \"))\n",
        "  if op==1:\n",
        "    w=int(input(\"Enter weigth: \"))\n",
        "    h=float(input(\"Enter heigth in meters: \"))\n",
        "    bmi=w/(h**2)\n",
        "    print(\"BMI:\",bmi)\n",
        "  elif op==2:\n",
        "   base=int(input(\"Enter base of the tringle:\"))\n",
        "   height=int(input(\"Enter the height of the triangle:\"))\n",
        "   print(\"Area :\",(base*height)/2)\n",
        "\n",
        "  elif op==3:\n",
        "   side=int(input(\"Enter side of a square\"))\n",
        "   print(\"Area :\",a**a)\n",
        "\n",
        "  elif op==4:\n",
        "     num=int(input(\"Enter a number: \"))   \n",
        "     print(\"Sqareroot: \",num**0.5)\n",
        "  else:\n",
        "   print(\"Invalid option exiting program.... \")\n",
        "\n",
        "else:\n",
        "  print(\"Invalid option exiting program.... \")  \n",
        "  "
      ],
      "metadata": {
        "colab": {
          "base_uri": "https://localhost:8080/"
        },
        "id": "PEB4lpObB41U",
        "outputId": "d9a07a1e-39ab-4769-a157-b9960472eacd"
      },
      "execution_count": null,
      "outputs": [
        {
          "output_type": "stream",
          "name": "stdout",
          "text": [
            "\n",
            "\n",
            "Press 1 for Basic calculation\n",
            "Press 2 for Other \n",
            "\n",
            "\n",
            "Enter an Option: 1\n",
            "\n",
            "\n",
            "   1.Addition\n",
            "   2.Subtraction\n",
            "   3.Multiplication\n",
            "   4.Division\n",
            "   5.Exponent\n",
            "   \n",
            "     \n",
            "Please select an operation number: 5\n",
            "Enter base: 4\n",
            "Enter exponent number: 2\n",
            "Exponent: 16\n"
          ]
        }
      ]
    },
    {
      "cell_type": "markdown",
      "source": [
        "# User validation"
      ],
      "metadata": {
        "id": "aQ0ViY-IRs3v"
      }
    },
    {
      "cell_type": "code",
      "source": [
        "user=\"bsk\"\n",
        "password=\"bsk123\"\n",
        "\n",
        "\n",
        "iuser=str(input(\"Enter Username: \"))\n",
        "ipassword=str(input(\"Enter Password: \"))\n",
        "\n",
        "if iuser!=user and ipassword!=password:\n",
        "  print(\"No User found\")\n",
        "elif iuser==user and ipassword!=password:\n",
        "  print(\"Wrong password\")\n",
        "elif iuser!=user and ipassword==password:\n",
        "  print(\"Wrong Username\")\n",
        "else:\n",
        "  print(\"Login Successfull....\")  "
      ],
      "metadata": {
        "colab": {
          "base_uri": "https://localhost:8080/"
        },
        "id": "EEGHpXAVSGmR",
        "outputId": "7f702194-bc8e-4076-d2f8-2fbb52ec5940"
      },
      "execution_count": null,
      "outputs": [
        {
          "output_type": "stream",
          "name": "stdout",
          "text": [
            "Enter Username: bsk\n",
            "Enter Password: bsk123\n",
            "Login Succesfull....\n"
          ]
        }
      ]
    },
    {
      "cell_type": "markdown",
      "source": [
        "#Loops\n"
      ],
      "metadata": {
        "id": "1vm1BuH2UXfk"
      }
    },
    {
      "cell_type": "code",
      "source": [
        "# While and for loops , control statments - Break,Continue,Pass\n",
        "i=0\n",
        "while i<15:\n",
        "  print(i)\n",
        "  i+=1"
      ],
      "metadata": {
        "id": "4BZg0sBFUaDn",
        "colab": {
          "base_uri": "https://localhost:8080/"
        },
        "outputId": "07c82768-3165-4ad3-e157-b0711b93ecc6"
      },
      "execution_count": 2,
      "outputs": [
        {
          "output_type": "stream",
          "name": "stdout",
          "text": [
            "0\n",
            "1\n",
            "2\n",
            "3\n",
            "4\n",
            "5\n",
            "6\n",
            "7\n",
            "8\n",
            "9\n",
            "10\n",
            "11\n",
            "12\n",
            "13\n",
            "14\n"
          ]
        }
      ]
    },
    {
      "cell_type": "code",
      "source": [
        "i=1\n",
        "while i<10:\n",
        "  print(\"Hello World\")\n",
        "  i+=1"
      ],
      "metadata": {
        "colab": {
          "base_uri": "https://localhost:8080/"
        },
        "id": "a0iwPlaa7e_z",
        "outputId": "bc6886f2-64b0-42ed-8a64-ec226384d035"
      },
      "execution_count": 6,
      "outputs": [
        {
          "output_type": "stream",
          "name": "stdout",
          "text": [
            "Hello World\n",
            "Hello World\n",
            "Hello World\n",
            "Hello World\n",
            "Hello World\n",
            "Hello World\n",
            "Hello World\n",
            "Hello World\n",
            "Hello World\n"
          ]
        }
      ]
    },
    {
      "cell_type": "code",
      "source": [
        "#list and in operator\n",
        "\"h\" in \"hello\""
      ],
      "metadata": {
        "colab": {
          "base_uri": "https://localhost:8080/"
        },
        "id": "NG9csFrc72Sm",
        "outputId": "dd283471-bae7-4277-f790-cfc064c9238b"
      },
      "execution_count": 8,
      "outputs": [
        {
          "output_type": "execute_result",
          "data": {
            "text/plain": [
              "True"
            ]
          },
          "metadata": {},
          "execution_count": 8
        }
      ]
    },
    {
      "cell_type": "code",
      "source": [
        "\"t\" in \" hello \""
      ],
      "metadata": {
        "colab": {
          "base_uri": "https://localhost:8080/"
        },
        "id": "V4_oumfs8ssZ",
        "outputId": "f82aca03-3490-438a-a88a-c9e79b0b0871"
      },
      "execution_count": 10,
      "outputs": [
        {
          "output_type": "execute_result",
          "data": {
            "text/plain": [
              "False"
            ]
          },
          "metadata": {},
          "execution_count": 10
        }
      ]
    },
    {
      "cell_type": "code",
      "source": [
        "# for loop\n",
        "list=[1,2,3,4,5,6,7]\n",
        "for i in list:\n",
        "  print(\"Elements :\",i)"
      ],
      "metadata": {
        "colab": {
          "base_uri": "https://localhost:8080/"
        },
        "id": "gc4u-O5x8w3s",
        "outputId": "348a9603-2442-465d-e499-317f376eee55"
      },
      "execution_count": 12,
      "outputs": [
        {
          "output_type": "stream",
          "name": "stdout",
          "text": [
            "Elements : 1\n",
            "Elements : 2\n",
            "Elements : 3\n",
            "Elements : 4\n",
            "Elements : 5\n",
            "Elements : 6\n",
            "Elements : 7\n"
          ]
        }
      ]
    },
    {
      "cell_type": "code",
      "source": [
        "list1=[1,3,4,5,6,20]\n",
        "sum=0\n",
        "for i in list1:\n",
        "  sum+=i\n",
        "print(sum)"
      ],
      "metadata": {
        "colab": {
          "base_uri": "https://localhost:8080/"
        },
        "id": "coTCdMbi9c84",
        "outputId": "5a3daa0a-ca3c-4bee-9f44-18d284a598f7"
      },
      "execution_count": 13,
      "outputs": [
        {
          "output_type": "stream",
          "name": "stdout",
          "text": [
            "39\n"
          ]
        }
      ]
    },
    {
      "cell_type": "code",
      "source": [
        "list2=[1,2,3,4,5,6,66,7,10,78,]\n",
        "for i in list2:\n",
        "  if i%2==0:\n",
        "    print(i)"
      ],
      "metadata": {
        "colab": {
          "base_uri": "https://localhost:8080/"
        },
        "id": "jP3laCUb91HR",
        "outputId": "2cd1671c-9b0c-4bbc-ceec-d162a1594cd6"
      },
      "execution_count": 17,
      "outputs": [
        {
          "output_type": "stream",
          "name": "stdout",
          "text": [
            "2\n",
            "4\n",
            "6\n",
            "66\n",
            "10\n",
            "78\n"
          ]
        }
      ]
    },
    {
      "cell_type": "code",
      "source": [
        "s=\"Bsk\"\n",
        "for st in s:\n",
        "  print(st*3)"
      ],
      "metadata": {
        "colab": {
          "base_uri": "https://localhost:8080/"
        },
        "id": "g3BkJGOF-Xy6",
        "outputId": "fea541d5-0d33-46fd-e858-ee38249c6b9b"
      },
      "execution_count": 18,
      "outputs": [
        {
          "output_type": "stream",
          "name": "stdout",
          "text": [
            "BBB\n",
            "sss\n",
            "kkk\n"
          ]
        }
      ]
    },
    {
      "cell_type": "code",
      "source": [],
      "metadata": {
        "id": "vYXuCGXr-mfU"
      },
      "execution_count": null,
      "outputs": []
    }
  ]
}